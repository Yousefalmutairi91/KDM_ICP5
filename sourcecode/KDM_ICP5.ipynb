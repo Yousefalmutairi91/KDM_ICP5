{
  "nbformat": 4,
  "nbformat_minor": 0,
  "metadata": {
    "colab": {
      "name": "KDM_ICP5.ipynb",
      "provenance": [],
      "collapsed_sections": []
    },
    "kernelspec": {
      "name": "python3",
      "display_name": "Python 3"
    }
  },
  "cells": [
    {
      "cell_type": "code",
      "metadata": {
        "colab": {
          "base_uri": "https://localhost:8080/"
        },
        "id": "1OUEr8ztPfwz",
        "outputId": "2c636044-74ea-491e-d1ff-786ca68cb558"
      },
      "source": [
        "!pip install pyspark"
      ],
      "execution_count": 154,
      "outputs": [
        {
          "output_type": "stream",
          "text": [
            "Requirement already satisfied: pyspark in /usr/local/lib/python3.7/dist-packages (3.0.2)\n",
            "Requirement already satisfied: py4j==0.10.9 in /usr/local/lib/python3.7/dist-packages (from pyspark) (0.10.9)\n"
          ],
          "name": "stdout"
        }
      ]
    },
    {
      "cell_type": "code",
      "metadata": {
        "id": "5gFSCm5PPf96"
      },
      "source": [
        "import pandas as pd\r\n",
        "from __future__ import print_function\r\n",
        "from pyspark import SparkConf, SparkContext\r\n",
        "from pyspark.ml.feature import HashingTF, IDF, Tokenizer\r\n",
        "from pyspark.sql import SparkSession\r\n",
        "from pyspark.ml.feature import NGram\r\n",
        "from pyspark.ml.feature import Word2Vec"
      ],
      "execution_count": 155,
      "outputs": []
    },
    {
      "cell_type": "code",
      "metadata": {
        "id": "ZnczCw_ZZWu0"
      },
      "source": [
        "#5 txt files \n",
        "\n",
        "txt1 = 'SpaceX announces second crew member of its all-civilian space mission'\n",
        "txt2 = 'Kaggle Publishes 2020 State of Machine Learning and Data Science Report'\n",
        "txt3 = 'Kansas City metro adds over 250 COVID-19 cases as average for new cases holds steady'\n",
        "txt4 = 'Facebook Reaches Deal Over News Content In Australia'\n",
        "txt5 = 'This is a sentnece for the text file #5'\n"
      ],
      "execution_count": 156,
      "outputs": []
    },
    {
      "cell_type": "code",
      "metadata": {
        "id": "-ynmbdljP37e"
      },
      "source": [
        "spltword1 = txt1.split(' ')\r\n",
        "spltword2 = txt2.split(' ')\r\n",
        "spltword3 = txt3.split(' ')\r\n",
        "spltword4 = txt4.split(' ')\r\n",
        "spltword5 = txt5.split(' ')"
      ],
      "execution_count": 157,
      "outputs": []
    },
    {
      "cell_type": "code",
      "metadata": {
        "colab": {
          "base_uri": "https://localhost:8080/"
        },
        "id": "MVK0qipY1dFA",
        "outputId": "ea593010-e8da-4a42-e8da-73f4e72ed545"
      },
      "source": [
        "print (spltword1)"
      ],
      "execution_count": 158,
      "outputs": [
        {
          "output_type": "stream",
          "text": [
            "['SpaceX', 'announces', 'second', 'crew', 'member', 'of', 'its', 'all-civilian', 'space', 'mission']\n"
          ],
          "name": "stdout"
        }
      ]
    },
    {
      "cell_type": "code",
      "metadata": {
        "id": "sH-NxRq6ktlv"
      },
      "source": [
        "uniqueWords = set(spltword1).union(set(spltword2)).union(set(spltword3)).union(set(spltword4)).union(set(spltword5))"
      ],
      "execution_count": 159,
      "outputs": []
    },
    {
      "cell_type": "code",
      "metadata": {
        "id": "pQJFxc0A1-CY"
      },
      "source": [
        "numOfWords1 = dict.fromkeys(uniqueWords, 0)\n",
        "for word in spltword1:\n",
        "    numOfWords1[word] += 1\n",
        "numOfWords2 = dict.fromkeys(uniqueWords, 0)\n",
        "for word in spltword2:\n",
        "    numOfWords2[word] += 1\n",
        "numOfWords3 = dict.fromkeys(uniqueWords, 0)\n",
        "for word in spltword3:\n",
        "    numOfWords3[word] += 1\n",
        "numOfWords4 = dict.fromkeys(uniqueWords, 0)\n",
        "for word in spltword4:\n",
        "    numOfWords4[word] += 1\n",
        "numOfWords5 = dict.fromkeys(uniqueWords, 0)\n",
        "for word in spltword5:\n",
        "    numOfWords5[word] += 1"
      ],
      "execution_count": 160,
      "outputs": []
    },
    {
      "cell_type": "code",
      "metadata": {
        "colab": {
          "base_uri": "https://localhost:8080/"
        },
        "id": "jfxkXCRj2SiX",
        "outputId": "e4db7991-7c7f-4d7e-dd7e-6a99f0a9b961"
      },
      "source": [
        "from nltk.corpus import stopwords\n",
        "nltk.download('stopwords')\n",
        "print(stopwords.words('english'))"
      ],
      "execution_count": 161,
      "outputs": [
        {
          "output_type": "stream",
          "text": [
            "[nltk_data] Downloading package stopwords to /root/nltk_data...\n",
            "[nltk_data]   Package stopwords is already up-to-date!\n",
            "['i', 'me', 'my', 'myself', 'we', 'our', 'ours', 'ourselves', 'you', \"you're\", \"you've\", \"you'll\", \"you'd\", 'your', 'yours', 'yourself', 'yourselves', 'he', 'him', 'his', 'himself', 'she', \"she's\", 'her', 'hers', 'herself', 'it', \"it's\", 'its', 'itself', 'they', 'them', 'their', 'theirs', 'themselves', 'what', 'which', 'who', 'whom', 'this', 'that', \"that'll\", 'these', 'those', 'am', 'is', 'are', 'was', 'were', 'be', 'been', 'being', 'have', 'has', 'had', 'having', 'do', 'does', 'did', 'doing', 'a', 'an', 'the', 'and', 'but', 'if', 'or', 'because', 'as', 'until', 'while', 'of', 'at', 'by', 'for', 'with', 'about', 'against', 'between', 'into', 'through', 'during', 'before', 'after', 'above', 'below', 'to', 'from', 'up', 'down', 'in', 'out', 'on', 'off', 'over', 'under', 'again', 'further', 'then', 'once', 'here', 'there', 'when', 'where', 'why', 'how', 'all', 'any', 'both', 'each', 'few', 'more', 'most', 'other', 'some', 'such', 'no', 'nor', 'not', 'only', 'own', 'same', 'so', 'than', 'too', 'very', 's', 't', 'can', 'will', 'just', 'don', \"don't\", 'should', \"should've\", 'now', 'd', 'll', 'm', 'o', 're', 've', 'y', 'ain', 'aren', \"aren't\", 'couldn', \"couldn't\", 'didn', \"didn't\", 'doesn', \"doesn't\", 'hadn', \"hadn't\", 'hasn', \"hasn't\", 'haven', \"haven't\", 'isn', \"isn't\", 'ma', 'mightn', \"mightn't\", 'mustn', \"mustn't\", 'needn', \"needn't\", 'shan', \"shan't\", 'shouldn', \"shouldn't\", 'wasn', \"wasn't\", 'weren', \"weren't\", 'won', \"won't\", 'wouldn', \"wouldn't\"]\n"
          ],
          "name": "stdout"
        }
      ]
    },
    {
      "cell_type": "code",
      "metadata": {
        "id": "2Fs6LjIdriUN"
      },
      "source": [
        "def computeTF(wordDict, bagOfWords):\n",
        "    tfDict = {}\n",
        "    bagOfWordsCount = len(bagOfWords)\n",
        "    for word, count in wordDict.items():\n",
        "        tfDict[word] = count / float(bagOfWordsCount)\n",
        "    return tfDict"
      ],
      "execution_count": 162,
      "outputs": []
    },
    {
      "cell_type": "code",
      "metadata": {
        "id": "Ndhy4tihrKBi"
      },
      "source": [
        "tf1 = computeTF(numOfWords1, spltword1)\n",
        "tf2 = computeTF(numOfWords2, spltword2)\n",
        "tf3 = computeTF(numOfWords3, spltword3)\n",
        "tf4 = computeTF(numOfWords4, spltword4)\n",
        "tf5 = computeTF(numOfWords5, spltword5)"
      ],
      "execution_count": 163,
      "outputs": []
    },
    {
      "cell_type": "code",
      "metadata": {
        "colab": {
          "base_uri": "https://localhost:8080/"
        },
        "id": "z32RU5vA3ooC",
        "outputId": "923f1ff5-48fe-4089-f8a3-948a65f5d798"
      },
      "source": [
        "print (tf1)"
      ],
      "execution_count": 164,
      "outputs": [
        {
          "output_type": "stream",
          "text": [
            "{'member': 0.1, 'COVID-19': 0.0, 'and': 0.0, 'Report': 0.0, '#5': 0.0, 'adds': 0.0, 'of': 0.1, 'space': 0.1, 'cases': 0.0, 'steady': 0.0, '250': 0.0, 'Deal': 0.0, 'the': 0.0, 'text': 0.0, 'Over': 0.0, 'Australia': 0.0, 'News': 0.0, 'State': 0.0, 'as': 0.0, 'In': 0.0, 'a': 0.0, '2020': 0.0, 'second': 0.1, 'Science': 0.0, 'Data': 0.0, 'Kansas': 0.0, 'metro': 0.0, 'average': 0.0, 'sentnece': 0.0, 'SpaceX': 0.1, 'all-civilian': 0.1, 'its': 0.1, 'new': 0.0, 'Publishes': 0.0, 'holds': 0.0, 'Learning': 0.0, 'Reaches': 0.0, 'file': 0.0, 'Kaggle': 0.0, 'City': 0.0, 'mission': 0.1, 'for': 0.0, 'Facebook': 0.0, 'This': 0.0, 'is': 0.0, 'announces': 0.1, 'Content': 0.0, 'over': 0.0, 'Machine': 0.0, 'crew': 0.1}\n"
          ],
          "name": "stdout"
        }
      ]
    },
    {
      "cell_type": "code",
      "metadata": {
        "colab": {
          "base_uri": "https://localhost:8080/"
        },
        "id": "jdywnUfQ3odF",
        "outputId": "e16b50b4-edea-456f-dcbc-c8997891dff6"
      },
      "source": [
        "print (tf2)"
      ],
      "execution_count": 165,
      "outputs": [
        {
          "output_type": "stream",
          "text": [
            "{'member': 0.0, 'COVID-19': 0.0, 'and': 0.09090909090909091, 'Report': 0.09090909090909091, '#5': 0.0, 'adds': 0.0, 'of': 0.09090909090909091, 'space': 0.0, 'cases': 0.0, 'steady': 0.0, '250': 0.0, 'Deal': 0.0, 'the': 0.0, 'text': 0.0, 'Over': 0.0, 'Australia': 0.0, 'News': 0.0, 'State': 0.09090909090909091, 'as': 0.0, 'In': 0.0, 'a': 0.0, '2020': 0.09090909090909091, 'second': 0.0, 'Science': 0.09090909090909091, 'Data': 0.09090909090909091, 'Kansas': 0.0, 'metro': 0.0, 'average': 0.0, 'sentnece': 0.0, 'SpaceX': 0.0, 'all-civilian': 0.0, 'its': 0.0, 'new': 0.0, 'Publishes': 0.09090909090909091, 'holds': 0.0, 'Learning': 0.09090909090909091, 'Reaches': 0.0, 'file': 0.0, 'Kaggle': 0.09090909090909091, 'City': 0.0, 'mission': 0.0, 'for': 0.0, 'Facebook': 0.0, 'This': 0.0, 'is': 0.0, 'announces': 0.0, 'Content': 0.0, 'over': 0.0, 'Machine': 0.09090909090909091, 'crew': 0.0}\n"
          ],
          "name": "stdout"
        }
      ]
    },
    {
      "cell_type": "code",
      "metadata": {
        "colab": {
          "base_uri": "https://localhost:8080/"
        },
        "id": "XRq9KqCr3n5I",
        "outputId": "68aeac3d-03dd-4682-da61-3b06fd6495fd"
      },
      "source": [
        "print (tf3)"
      ],
      "execution_count": 166,
      "outputs": [
        {
          "output_type": "stream",
          "text": [
            "{'member': 0.0, 'COVID-19': 0.06666666666666667, 'and': 0.0, 'Report': 0.0, '#5': 0.0, 'adds': 0.06666666666666667, 'of': 0.0, 'space': 0.0, 'cases': 0.13333333333333333, 'steady': 0.06666666666666667, '250': 0.06666666666666667, 'Deal': 0.0, 'the': 0.0, 'text': 0.0, 'Over': 0.0, 'Australia': 0.0, 'News': 0.0, 'State': 0.0, 'as': 0.06666666666666667, 'In': 0.0, 'a': 0.0, '2020': 0.0, 'second': 0.0, 'Science': 0.0, 'Data': 0.0, 'Kansas': 0.06666666666666667, 'metro': 0.06666666666666667, 'average': 0.06666666666666667, 'sentnece': 0.0, 'SpaceX': 0.0, 'all-civilian': 0.0, 'its': 0.0, 'new': 0.06666666666666667, 'Publishes': 0.0, 'holds': 0.06666666666666667, 'Learning': 0.0, 'Reaches': 0.0, 'file': 0.0, 'Kaggle': 0.0, 'City': 0.06666666666666667, 'mission': 0.0, 'for': 0.06666666666666667, 'Facebook': 0.0, 'This': 0.0, 'is': 0.0, 'announces': 0.0, 'Content': 0.0, 'over': 0.06666666666666667, 'Machine': 0.0, 'crew': 0.0}\n"
          ],
          "name": "stdout"
        }
      ]
    },
    {
      "cell_type": "code",
      "metadata": {
        "colab": {
          "base_uri": "https://localhost:8080/"
        },
        "id": "67wGvV8V3nvj",
        "outputId": "72dc049e-61c0-469d-b0d2-026cd11b24e9"
      },
      "source": [
        "print (tf4)"
      ],
      "execution_count": 167,
      "outputs": [
        {
          "output_type": "stream",
          "text": [
            "{'member': 0.0, 'COVID-19': 0.0, 'and': 0.0, 'Report': 0.0, '#5': 0.0, 'adds': 0.0, 'of': 0.0, 'space': 0.0, 'cases': 0.0, 'steady': 0.0, '250': 0.0, 'Deal': 0.125, 'the': 0.0, 'text': 0.0, 'Over': 0.125, 'Australia': 0.125, 'News': 0.125, 'State': 0.0, 'as': 0.0, 'In': 0.125, 'a': 0.0, '2020': 0.0, 'second': 0.0, 'Science': 0.0, 'Data': 0.0, 'Kansas': 0.0, 'metro': 0.0, 'average': 0.0, 'sentnece': 0.0, 'SpaceX': 0.0, 'all-civilian': 0.0, 'its': 0.0, 'new': 0.0, 'Publishes': 0.0, 'holds': 0.0, 'Learning': 0.0, 'Reaches': 0.125, 'file': 0.0, 'Kaggle': 0.0, 'City': 0.0, 'mission': 0.0, 'for': 0.0, 'Facebook': 0.125, 'This': 0.0, 'is': 0.0, 'announces': 0.0, 'Content': 0.125, 'over': 0.0, 'Machine': 0.0, 'crew': 0.0}\n"
          ],
          "name": "stdout"
        }
      ]
    },
    {
      "cell_type": "code",
      "metadata": {
        "colab": {
          "base_uri": "https://localhost:8080/"
        },
        "id": "MdGHM9k_3njz",
        "outputId": "46623647-211b-45a6-cea0-1c2c8ac3b79c"
      },
      "source": [
        "print (tf5)"
      ],
      "execution_count": 168,
      "outputs": [
        {
          "output_type": "stream",
          "text": [
            "{'member': 0.0, 'COVID-19': 0.0, 'and': 0.0, 'Report': 0.0, '#5': 0.1111111111111111, 'adds': 0.0, 'of': 0.0, 'space': 0.0, 'cases': 0.0, 'steady': 0.0, '250': 0.0, 'Deal': 0.0, 'the': 0.1111111111111111, 'text': 0.1111111111111111, 'Over': 0.0, 'Australia': 0.0, 'News': 0.0, 'State': 0.0, 'as': 0.0, 'In': 0.0, 'a': 0.1111111111111111, '2020': 0.0, 'second': 0.0, 'Science': 0.0, 'Data': 0.0, 'Kansas': 0.0, 'metro': 0.0, 'average': 0.0, 'sentnece': 0.1111111111111111, 'SpaceX': 0.0, 'all-civilian': 0.0, 'its': 0.0, 'new': 0.0, 'Publishes': 0.0, 'holds': 0.0, 'Learning': 0.0, 'Reaches': 0.0, 'file': 0.1111111111111111, 'Kaggle': 0.0, 'City': 0.0, 'mission': 0.0, 'for': 0.1111111111111111, 'Facebook': 0.0, 'This': 0.1111111111111111, 'is': 0.1111111111111111, 'announces': 0.0, 'Content': 0.0, 'over': 0.0, 'Machine': 0.0, 'crew': 0.0}\n"
          ],
          "name": "stdout"
        }
      ]
    },
    {
      "cell_type": "code",
      "metadata": {
        "id": "2VFnhXLJ_pkZ"
      },
      "source": [
        "def computeIDF(documents):\n",
        "    import math\n",
        "    N = len(documents)\n",
        "    \n",
        "    idfDict = dict.fromkeys(documents[0].keys(), 0)\n",
        "    for document in documents:\n",
        "        for word, val in document.items():\n",
        "            if val > 0:\n",
        "                idfDict[word] += 1\n",
        "    \n",
        "    for word, val in idfDict.items():\n",
        "        idfDict[word] = math.log(N / float(val))\n",
        "    return idfDict"
      ],
      "execution_count": 169,
      "outputs": []
    },
    {
      "cell_type": "code",
      "metadata": {
        "id": "_h17C4nF_v3P"
      },
      "source": [
        "idf1 = computeIDF([numOfWords1, numOfWords2, numOfWords3, numOfWords4, numOfWords5])"
      ],
      "execution_count": 170,
      "outputs": []
    },
    {
      "cell_type": "code",
      "metadata": {
        "colab": {
          "base_uri": "https://localhost:8080/"
        },
        "id": "RhX-WqKW_9Lw",
        "outputId": "12d7b74a-01c6-4cd6-c330-d0634373a850"
      },
      "source": [
        "print(idf1)"
      ],
      "execution_count": 171,
      "outputs": [
        {
          "output_type": "stream",
          "text": [
            "{'member': 1.6094379124341003, 'COVID-19': 1.6094379124341003, 'and': 1.6094379124341003, 'Report': 1.6094379124341003, '#5': 1.6094379124341003, 'adds': 1.6094379124341003, 'of': 0.9162907318741551, 'space': 1.6094379124341003, 'cases': 1.6094379124341003, 'steady': 1.6094379124341003, '250': 1.6094379124341003, 'Deal': 1.6094379124341003, 'the': 1.6094379124341003, 'text': 1.6094379124341003, 'Over': 1.6094379124341003, 'Australia': 1.6094379124341003, 'News': 1.6094379124341003, 'State': 1.6094379124341003, 'as': 1.6094379124341003, 'In': 1.6094379124341003, 'a': 1.6094379124341003, '2020': 1.6094379124341003, 'second': 1.6094379124341003, 'Science': 1.6094379124341003, 'Data': 1.6094379124341003, 'Kansas': 1.6094379124341003, 'metro': 1.6094379124341003, 'average': 1.6094379124341003, 'sentnece': 1.6094379124341003, 'SpaceX': 1.6094379124341003, 'all-civilian': 1.6094379124341003, 'its': 1.6094379124341003, 'new': 1.6094379124341003, 'Publishes': 1.6094379124341003, 'holds': 1.6094379124341003, 'Learning': 1.6094379124341003, 'Reaches': 1.6094379124341003, 'file': 1.6094379124341003, 'Kaggle': 1.6094379124341003, 'City': 1.6094379124341003, 'mission': 1.6094379124341003, 'for': 0.9162907318741551, 'Facebook': 1.6094379124341003, 'This': 1.6094379124341003, 'is': 1.6094379124341003, 'announces': 1.6094379124341003, 'Content': 1.6094379124341003, 'over': 1.6094379124341003, 'Machine': 1.6094379124341003, 'crew': 1.6094379124341003}\n"
          ],
          "name": "stdout"
        }
      ]
    },
    {
      "cell_type": "code",
      "metadata": {
        "id": "Z8yGdjssGthl"
      },
      "source": [
        "def computeTFIDF(tfBagOfWords, idf1):\n",
        "    tfidf = {}\n",
        "    for word, val in tfBagOfWords.items():\n",
        "        tfidf[word] = val * idf1[word]\n",
        "    return tfidf"
      ],
      "execution_count": 172,
      "outputs": []
    },
    {
      "cell_type": "code",
      "metadata": {
        "colab": {
          "base_uri": "https://localhost:8080/"
        },
        "id": "a2qT3XOCmxqo",
        "outputId": "3374d2e0-a275-4e0b-da2d-84f4c07cc31c"
      },
      "source": [
        "import nltk\n",
        "from nltk.stem import WordNetLemmatizer\n",
        "nltk.download('punkt')"
      ],
      "execution_count": 173,
      "outputs": [
        {
          "output_type": "stream",
          "text": [
            "[nltk_data] Downloading package punkt to /root/nltk_data...\n",
            "[nltk_data]   Package punkt is already up-to-date!\n"
          ],
          "name": "stdout"
        },
        {
          "output_type": "execute_result",
          "data": {
            "text/plain": [
              "True"
            ]
          },
          "metadata": {
            "tags": []
          },
          "execution_count": 173
        }
      ]
    },
    {
      "cell_type": "code",
      "metadata": {
        "id": "oswhHUnWm0dC"
      },
      "source": [
        "lemmatizer = WordNetLemmatizer()"
      ],
      "execution_count": 174,
      "outputs": []
    },
    {
      "cell_type": "code",
      "metadata": {
        "id": "GNp9trokm598"
      },
      "source": [
        "word_lim1 = nltk.word_tokenize(txt1)\n",
        "word_lim2 = nltk.word_tokenize(txt2)\n",
        "word_lim3 = nltk.word_tokenize(txt3)\n",
        "word_lim4 = nltk.word_tokenize(txt4)\n",
        "word_lim5 = nltk.word_tokenize(txt5)"
      ],
      "execution_count": 175,
      "outputs": []
    },
    {
      "cell_type": "code",
      "metadata": {
        "colab": {
          "base_uri": "https://localhost:8080/"
        },
        "id": "8hfek99unWUl",
        "outputId": "bd39a0ee-d7d7-4143-d037-02564f3698cc"
      },
      "source": [
        "#ex\n",
        "print (word_lim1)"
      ],
      "execution_count": 176,
      "outputs": [
        {
          "output_type": "stream",
          "text": [
            "['SpaceX', 'announces', 'second', 'crew', 'member', 'of', 'its', 'all-civilian', 'space', 'mission']\n"
          ],
          "name": "stdout"
        }
      ]
    },
    {
      "cell_type": "code",
      "metadata": {
        "colab": {
          "base_uri": "https://localhost:8080/"
        },
        "id": "5t4Ali9rpDJA",
        "outputId": "625f0091-34c5-4b67-d40e-220ac4be71a9"
      },
      "source": [
        "# Resource wordnet\n",
        "nltk.download('wordnet')\n",
        "\n",
        "lemmatized_txt1 = ' '.join([lemmatizer.lemmatize(w) for w in word_lim1])\n",
        "lemmatized_txt2 = ' '.join([lemmatizer.lemmatize(w) for w in word_lim2])\n",
        "lemmatized_txt3 = ' '.join([lemmatizer.lemmatize(w) for w in word_lim3])\n",
        "lemmatized_txt4 = ' '.join([lemmatizer.lemmatize(w) for w in word_lim4])\n",
        "lemmatized_txt5 = ' '.join([lemmatizer.lemmatize(w) for w in word_lim5])"
      ],
      "execution_count": 177,
      "outputs": [
        {
          "output_type": "stream",
          "text": [
            "[nltk_data] Downloading package wordnet to /root/nltk_data...\n",
            "[nltk_data]   Package wordnet is already up-to-date!\n"
          ],
          "name": "stdout"
        }
      ]
    },
    {
      "cell_type": "code",
      "metadata": {
        "colab": {
          "base_uri": "https://localhost:8080/",
          "height": 35
        },
        "id": "BiLwKfz1pn2_",
        "outputId": "33cda266-6853-48d2-aecb-5bbb1d18c374"
      },
      "source": [
        "#ex\n",
        "\n",
        "lemmatized_txt1"
      ],
      "execution_count": 178,
      "outputs": [
        {
          "output_type": "execute_result",
          "data": {
            "application/vnd.google.colaboratory.intrinsic+json": {
              "type": "string"
            },
            "text/plain": [
              "'SpaceX announces second crew member of it all-civilian space mission'"
            ]
          },
          "metadata": {
            "tags": []
          },
          "execution_count": 178
        }
      ]
    },
    {
      "cell_type": "code",
      "metadata": {
        "id": "t7b1g2jzp2Yv"
      },
      "source": [
        "spltlemm1 = lemmatized_txt1.split(' ')\n",
        "spltlemm2 = lemmatized_txt2.split(' ')\n",
        "spltlemm3 = lemmatized_txt3.split(' ')\n",
        "spltlemm4 = lemmatized_txt4.split(' ')\n",
        "spltlemm5 = lemmatized_txt5.split(' ')"
      ],
      "execution_count": 179,
      "outputs": []
    },
    {
      "cell_type": "code",
      "metadata": {
        "colab": {
          "base_uri": "https://localhost:8080/"
        },
        "id": "JHfc3gvvqWdM",
        "outputId": "d6aa5917-553b-49f3-c4e2-8e131b9d9dd8"
      },
      "source": [
        "#ex\n",
        "print (spltlemm1)"
      ],
      "execution_count": 180,
      "outputs": [
        {
          "output_type": "stream",
          "text": [
            "['SpaceX', 'announces', 'second', 'crew', 'member', 'of', 'it', 'all-civilian', 'space', 'mission']\n"
          ],
          "name": "stdout"
        }
      ]
    },
    {
      "cell_type": "code",
      "metadata": {
        "id": "kELyQokNqab8"
      },
      "source": [
        "distinctiveWords = set(spltlemm1).union(set(spltlemm2)).union(set(spltlemm3)).union(set(spltlemm4)).union(set(spltlemm5))"
      ],
      "execution_count": 181,
      "outputs": []
    },
    {
      "cell_type": "code",
      "metadata": {
        "id": "6oVeaMyaqjAF"
      },
      "source": [
        "numOfWords1 = dict.fromkeys(distinctiveWords, 0)\n",
        "for word in spltlemm1:\n",
        "    numOfWords1[word] += 1\n",
        "numOfWords2 = dict.fromkeys(distinctiveWords, 0)\n",
        "for word in spltlemm2:\n",
        "    numOfWords2[word] += 1\n",
        "numOfWords3 = dict.fromkeys(distinctiveWords, 0)\n",
        "for word in spltlemm3:\n",
        "    numOfWords3[word] += 1\n",
        "numOfWords4 = dict.fromkeys(distinctiveWords, 0)\n",
        "for word in spltlemm4:\n",
        "    numOfWords4[word] += 1\n",
        "numOfWords5 = dict.fromkeys(distinctiveWords, 0)\n",
        "for word in spltlemm5:\n",
        "    numOfWords5[word] += 1"
      ],
      "execution_count": 182,
      "outputs": []
    },
    {
      "cell_type": "code",
      "metadata": {
        "id": "F6vuds0VsPMK"
      },
      "source": [
        "tfidf1 = computeTFIDF(numOfWords1, idf)\n",
        "tfidf2 = computeTFIDF(numOfWords2, idf)\n",
        "tfidf3 = computeTFIDF(numOfWords3, idf)\n",
        "tfidf4 = computeTFIDF(numOfWords4, idf)\n",
        "tfidf5 = computeTFIDF(numOfWords5, idf)\n",
        "df2 = pd.DataFrame([tfidf1, tfidf2, tfidf3, tfidf4, tfidf5])"
      ],
      "execution_count": 183,
      "outputs": []
    },
    {
      "cell_type": "code",
      "metadata": {
        "colab": {
          "base_uri": "https://localhost:8080/"
        },
        "id": "pTaXuLTBCKTg",
        "outputId": "0ecb1d61-1486-43ab-9a59-1cc7feb07b4f"
      },
      "source": [
        "print (df2)"
      ],
      "execution_count": 184,
      "outputs": [
        {
          "output_type": "stream",
          "text": [
            "     member  COVID-19      case  ...         #   Machine      crew\n",
            "0  1.609438  0.000000  0.000000  ...  0.000000  0.000000  1.609438\n",
            "1  0.000000  0.000000  0.000000  ...  0.000000  1.609438  0.000000\n",
            "2  0.000000  1.609438  3.218876  ...  0.000000  0.000000  0.000000\n",
            "3  0.000000  0.000000  0.000000  ...  0.000000  0.000000  0.000000\n",
            "4  0.000000  0.000000  0.000000  ...  1.609438  0.000000  0.000000\n",
            "\n",
            "[5 rows x 50 columns]\n"
          ],
          "name": "stdout"
        }
      ]
    },
    {
      "cell_type": "code",
      "metadata": {
        "id": "iWfv0CJYr9J8"
      },
      "source": [
        "list1 = [txt1]\n",
        "list2 = [txt2]\n",
        "list3 = [txt3]\n",
        "list4 = [txt4]\n",
        "list5 = [txt5]"
      ],
      "execution_count": 185,
      "outputs": []
    },
    {
      "cell_type": "code",
      "metadata": {
        "id": "bdJfIBRlrl96"
      },
      "source": [
        "res1 = [(x, i.split()[j + 1]) for i in list1  \n",
        "       for j, x in enumerate(i.split()) if j < len(i.split()) - 1]\n",
        "res2 = [(x, i.split()[j + 1]) for i in list2  \n",
        "       for j, x in enumerate(i.split()) if j < len(i.split()) - 1]\n",
        "res3 = [(x, i.split()[j + 1]) for i in list3  \n",
        "       for j, x in enumerate(i.split()) if j < len(i.split()) - 1]\n",
        "res4 = [(x, i.split()[j + 1]) for i in list4  \n",
        "       for j, x in enumerate(i.split()) if j < len(i.split()) - 1]\n",
        "res5 = [(x, i.split()[j + 1]) for i in list5  \n",
        "       for j, x in enumerate(i.split()) if j < len(i.split()) - 1]"
      ],
      "execution_count": 186,
      "outputs": []
    },
    {
      "cell_type": "code",
      "metadata": {
        "id": "_kj_xnl4CjaJ"
      },
      "source": [
        "runit = set(res1).union(set(res2)).union(set(res3)).union(set(res4)).union(set(res5))"
      ],
      "execution_count": 187,
      "outputs": []
    },
    {
      "cell_type": "code",
      "metadata": {
        "id": "EDdtC1adC3X-"
      },
      "source": [
        "runit1 = dict.fromkeys(runiqueWords, 0)\n",
        "for word in resA:\n",
        "    runit1[word] += 1\n",
        "runit2 = dict.fromkeys(runiqueWords, 0)\n",
        "for word in resB:\n",
        "    runit2[word] += 1\n",
        "runit3 = dict.fromkeys(runiqueWords, 0)\n",
        "for word in resC:\n",
        "    runit3[word] += 1\n",
        "runit4 = dict.fromkeys(runiqueWords, 0)\n",
        "for word in resD:\n",
        "    runit4[word] += 1\n",
        "runit5 = dict.fromkeys(runiqueWords, 0)\n",
        "for word in resE:\n",
        "    runit5[word] += 1"
      ],
      "execution_count": 188,
      "outputs": []
    },
    {
      "cell_type": "code",
      "metadata": {
        "id": "bIy1-WbhDKq5"
      },
      "source": [
        "rtf1 = computeTF(runit1, res1)\n",
        "rtf2 = computeTF(runit2, res2)\n",
        "rtf3 = computeTF(runit3, res3)\n",
        "rtf4 = computeTF(runit4, res4)\n",
        "rtf5 = computeTF(runit5, res5)"
      ],
      "execution_count": 189,
      "outputs": []
    },
    {
      "cell_type": "code",
      "metadata": {
        "colab": {
          "base_uri": "https://localhost:8080/"
        },
        "id": "fGy0c1O3r_de",
        "outputId": "d9e1b664-53aa-49c2-98ab-121a47630978"
      },
      "source": [
        "print(rtf1)"
      ],
      "execution_count": 190,
      "outputs": [
        {
          "output_type": "stream",
          "text": [
            "{('all-civilian', 'space'): 0.1111111111111111, ('for', 'the'): 0.0, ('Learning', 'and'): 0.0, ('cases', 'holds'): 0.0, ('Science', 'Report'): 0.0, ('cases', 'as'): 0.0, ('of', 'Machine'): 0.0, ('Content', 'In'): 0.0, ('SpaceX', 'announces'): 0.1111111111111111, ('a', 'sentnece'): 0.0, ('over', '250'): 0.0, ('of', 'its'): 0.1111111111111111, ('In', 'Australia'): 0.0, ('adds', 'over'): 0.0, ('COVID-19', 'cases'): 0.0, ('average', 'for'): 0.0, ('the', 'text'): 0.0, ('second', 'crew'): 0.1111111111111111, ('sentnece', 'for'): 0.0, ('as', 'average'): 0.0, ('space', 'mission'): 0.1111111111111111, ('its', 'all-civilian'): 0.1111111111111111, ('Deal', 'Over'): 0.0, ('City', 'metro'): 0.0, ('250', 'COVID-19'): 0.0, ('for', 'new'): 0.0, ('Kansas', 'City'): 0.0, ('Kaggle', 'Publishes'): 0.0, ('member', 'of'): 0.1111111111111111, ('metro', 'adds'): 0.0, ('crew', 'member'): 0.1111111111111111, ('is', 'a'): 0.0, ('text', 'file'): 0.0, ('Publishes', '2020'): 0.0, ('2020', 'State'): 0.0, ('file', '#5'): 0.0, ('Data', 'Science'): 0.0, ('Over', 'News'): 0.0, ('new', 'cases'): 0.0, ('This', 'is'): 0.0, ('State', 'of'): 0.0, ('Machine', 'Learning'): 0.0, ('Facebook', 'Reaches'): 0.0, ('News', 'Content'): 0.0, ('Reaches', 'Deal'): 0.0, ('announces', 'second'): 0.1111111111111111, ('and', 'Data'): 0.0, ('holds', 'steady'): 0.0}\n"
          ],
          "name": "stdout"
        }
      ]
    },
    {
      "cell_type": "code",
      "metadata": {
        "id": "rkpqPuXzsMhV"
      },
      "source": [
        "ridfs = computeIDF([runit1, runit2, runit3, runit4, runit5])"
      ],
      "execution_count": 191,
      "outputs": []
    },
    {
      "cell_type": "code",
      "metadata": {
        "id": "JOdc5q0Rs6bf"
      },
      "source": [
        "rtfidf1 = computeTFIDF(rtf1, ridfs)\n",
        "rtfidf2 = computeTFIDF(rtf2, ridfs)\n",
        "rtfidf3 = computeTFIDF(rtf3, ridfs)\n",
        "rtfidf4 = computeTFIDF(rtf4, ridfs)\n",
        "rtfidf5 = computeTFIDF(rtf5, ridfs)\n",
        "rdfq = pd.DataFrame([rtfidf1, rtfidf2, rtfidf3, rtfidf4, rtfidf5])"
      ],
      "execution_count": 192,
      "outputs": []
    },
    {
      "cell_type": "code",
      "metadata": {
        "colab": {
          "base_uri": "https://localhost:8080/"
        },
        "id": "-noSCusSD7SF",
        "outputId": "398a2c05-852d-4d18-ec3f-d7896b8ada88"
      },
      "source": [
        "print(df2)"
      ],
      "execution_count": 193,
      "outputs": [
        {
          "output_type": "stream",
          "text": [
            "     member  COVID-19      case  ...         #   Machine      crew\n",
            "0  1.609438  0.000000  0.000000  ...  0.000000  0.000000  1.609438\n",
            "1  0.000000  0.000000  0.000000  ...  0.000000  1.609438  0.000000\n",
            "2  0.000000  1.609438  3.218876  ...  0.000000  0.000000  0.000000\n",
            "3  0.000000  0.000000  0.000000  ...  0.000000  0.000000  0.000000\n",
            "4  0.000000  0.000000  0.000000  ...  1.609438  0.000000  0.000000\n",
            "\n",
            "[5 rows x 50 columns]\n"
          ],
          "name": "stdout"
        }
      ]
    },
    {
      "cell_type": "code",
      "metadata": {
        "colab": {
          "base_uri": "https://localhost:8080/"
        },
        "id": "K5Pt8vIcD7D9",
        "outputId": "a04a871f-57ef-4f20-d5f0-73fe7bb125fc"
      },
      "source": [
        "print(rdfq)"
      ],
      "execution_count": 194,
      "outputs": [
        {
          "output_type": "stream",
          "text": [
            "   (all-civilian, space)  (for, the)  ...  (and, Data)  (holds, steady)\n",
            "0               0.178826     0.00000  ...     0.000000          0.00000\n",
            "1               0.000000     0.00000  ...     0.160944          0.00000\n",
            "2               0.000000     0.00000  ...     0.000000          0.11496\n",
            "3               0.000000     0.00000  ...     0.000000          0.00000\n",
            "4               0.000000     0.20118  ...     0.000000          0.00000\n",
            "\n",
            "[5 rows x 48 columns]\n"
          ],
          "name": "stdout"
        }
      ]
    }
  ]
}